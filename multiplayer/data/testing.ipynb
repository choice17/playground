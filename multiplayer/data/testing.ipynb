{
 "cells": [
  {
   "cell_type": "code",
   "execution_count": 26,
   "metadata": {},
   "outputs": [],
   "source": [
    "import cv2"
   ]
  },
  {
   "cell_type": "code",
   "execution_count": 89,
   "metadata": {},
   "outputs": [],
   "source": [
    "a = cv2.imread('bk.png')"
   ]
  },
  {
   "cell_type": "code",
   "execution_count": 90,
   "metadata": {},
   "outputs": [],
   "source": [
    "msg = 'hello world'"
   ]
  },
  {
   "cell_type": "code",
   "execution_count": 91,
   "metadata": {},
   "outputs": [],
   "source": [
    "h,w,c = a.shape"
   ]
  },
  {
   "cell_type": "code",
   "execution_count": 106,
   "metadata": {},
   "outputs": [],
   "source": [
    "import random\n",
    "import time\n",
    "import queue\n",
    "import threading"
   ]
  },
  {
   "cell_type": "code",
   "execution_count": 105,
   "metadata": {},
   "outputs": [
    {
     "data": {
      "text/plain": [
       "0.3610900625141015"
      ]
     },
     "execution_count": 105,
     "metadata": {},
     "output_type": "execute_result"
    }
   ],
   "source": [
    "random.random()"
   ]
  },
  {
   "cell_type": "code",
   "execution_count": 111,
   "metadata": {},
   "outputs": [
    {
     "name": "stdout",
     "output_type": "stream",
     "text": [
      "foo 2 is here\n",
      "foo 1 is here\n",
      "foo 2 is here\n",
      "foo 2 is here\n",
      "foo 1 is here\n",
      "foo 1 is here\n",
      "foo 2 is here\n",
      "foo 1 is here\n",
      "foo 2 is here\n",
      "foo 1 is here\n",
      "foo 2 is here\n",
      "foo 1 is here\n",
      "foo 2 is here\n",
      "foo 1 is here\n",
      "foo 1 is here\n",
      "foo 2 is here\n",
      "foo 1 is here\n",
      "foo 2 is here\n",
      "foo 1 is here\n",
      "foo 2 is here\n",
      "foo 1 is here\n",
      "foo 2 is here\n",
      "foo 1 is here\n",
      "foo 2 is here\n",
      "foo 1 is here\n",
      "foo 2 is here\n",
      "foo 1 is here\n",
      "foo 2 is here\n",
      "foo 2 is here\n",
      "foo 1 is here\n",
      "foo 2 is here\n",
      "foo 2 is here\n",
      "foo 1 is here\n",
      "foo 1 is here\n",
      "foo 1 is here\n",
      "foo 1 is here\n",
      "foo 2 is here\n",
      "foo 2 is here\n",
      "foo 1 is here\n",
      "foo 1 is here\n",
      "foo 2 is here\n",
      "foo 1 is here\n",
      "foo 2 is here\n",
      "foo 2 is here\n",
      "foo 1 is here\n"
     ]
    },
    {
     "ename": "KeyboardInterrupt",
     "evalue": "",
     "output_type": "error",
     "traceback": [
      "\u001b[1;31m---------------------------------------------------------------------------\u001b[0m",
      "\u001b[1;31mKeyboardInterrupt\u001b[0m                         Traceback (most recent call last)",
      "\u001b[1;32m<ipython-input-111-024640abbcba>\u001b[0m in \u001b[0;36m<module>\u001b[1;34m()\u001b[0m\n\u001b[0;32m     23\u001b[0m         \u001b[0mprint\u001b[0m\u001b[1;33m(\u001b[0m\u001b[0mo2\u001b[0m\u001b[1;33m)\u001b[0m\u001b[1;33m\u001b[0m\u001b[0m\n\u001b[0;32m     24\u001b[0m     \u001b[1;32mexcept\u001b[0m \u001b[0mqueue\u001b[0m\u001b[1;33m.\u001b[0m\u001b[0mEmpty\u001b[0m\u001b[1;33m:\u001b[0m\u001b[1;33m\u001b[0m\u001b[0m\n\u001b[1;32m---> 25\u001b[1;33m         \u001b[1;32mpass\u001b[0m\u001b[1;33m\u001b[0m\u001b[0m\n\u001b[0m\u001b[0;32m     26\u001b[0m \u001b[1;33m\u001b[0m\u001b[0m\n",
      "\u001b[1;31mKeyboardInterrupt\u001b[0m: "
     ]
    }
   ],
   "source": [
    "def foo(a,q):\n",
    "    while 1:\n",
    "        time.sleep(random.random())\n",
    "        q.put(\"%s %d is here\" % ('foo',a))\n",
    "\n",
    "q1 = queue.Queue()\n",
    "q2 = queue.Queue()\n",
    "t1 = threading.Thread(target=foo,args=(1,q1))\n",
    "t2 = threading.Thread(target=foo,args=(2,q2))\n",
    "t1.daemon = True\n",
    "t2.daemon = True\n",
    "t1.start()\n",
    "t2.start()\n",
    "\n",
    "while 1:\n",
    "    try:\n",
    "        o1 = q1.get(False)\n",
    "        print(o1)\n",
    "    except queue.Empty:\n",
    "        pass       \n",
    "    try:   \n",
    "        o2 = q2.get(False)\n",
    "        print(o2)\n",
    "    except queue.Empty:\n",
    "        pass\n",
    "        "
   ]
  },
  {
   "cell_type": "code",
   "execution_count": 108,
   "metadata": {},
   "outputs": [
    {
     "ename": "SyntaxError",
     "evalue": "unexpected EOF while parsing (<ipython-input-108-9b7a0c467ab3>, line 6)",
     "output_type": "error",
     "traceback": [
      "\u001b[1;36m  File \u001b[1;32m\"<ipython-input-108-9b7a0c467ab3>\"\u001b[1;36m, line \u001b[1;32m6\u001b[0m\n\u001b[1;33m    print(bb)\u001b[0m\n\u001b[1;37m             ^\u001b[0m\n\u001b[1;31mSyntaxError\u001b[0m\u001b[1;31m:\u001b[0m unexpected EOF while parsing\n"
     ]
    }
   ],
   "source": [
    "try:\n",
    "    print(pp)\n",
    "except:\n",
    "    pass\n",
    "try:\n",
    "    print(bb)"
   ]
  },
  {
   "cell_type": "code",
   "execution_count": 93,
   "metadata": {},
   "outputs": [],
   "source": [
    "\n",
    "font                   = cv2.FONT_HERSHEY_SIMPLEX\n",
    "fontScale              = 1\n",
    "fontColor              = (255,255,255)\n",
    "lineType               = 2\n",
    "bottomLeftCornerOfText = (10,h-20) # w,h\n",
    "\n",
    "\n",
    "o = cv2.putText(a,'Hello World!', \n",
    "    bottomLeftCornerOfText, \n",
    "    font, \n",
    "    fontScale,\n",
    "    fontColor,\n",
    "    lineType,\n",
    "    )\n"
   ]
  },
  {
   "cell_type": "code",
   "execution_count": 95,
   "metadata": {},
   "outputs": [],
   "source": [
    "cv2.namedWindow('v',cv2.WINDOW_NORMAL)\n",
    "while 1:\n",
    "    cv2.imshow('v',a)\n",
    "    k = cv2.waitKey(30)\n",
    "    \n",
    "    if k == ord('q'):\n",
    "        cv2.destroyAllWindows()\n",
    "        break\n",
    "    "
   ]
  },
  {
   "cell_type": "code",
   "execution_count": 112,
   "metadata": {},
   "outputs": [],
   "source": [
    "import xml.etree.ElementTree as ET"
   ]
  },
  {
   "cell_type": "code",
   "execution_count": 113,
   "metadata": {},
   "outputs": [],
   "source": [
    "xmltext = '<ol><timestamp>20000</timestamp><object_num>2</object_num><object id=\"0\"><sx>108</sx><sy>200</sy><ex>304</ex><ey>504</ey><velocity_x>0</velocity_x><velocity_y>4</velocity_y></object><object id=\"1\"><sx>404</sx><sy>504</sy><ex>440</ex><ey>600</ey><velocity_x>60</velocity_x><velocity_y>-30</velocity_y></object></ol>'"
   ]
  },
  {
   "cell_type": "code",
   "execution_count": 114,
   "metadata": {},
   "outputs": [],
   "source": [
    "root = ET.fromstring(xmltext)"
   ]
  },
  {
   "cell_type": "code",
   "execution_count": 121,
   "metadata": {},
   "outputs": [
    {
     "data": {
      "text/plain": [
       "['__class__',\n",
       " '__copy__',\n",
       " '__deepcopy__',\n",
       " '__delattr__',\n",
       " '__delitem__',\n",
       " '__dir__',\n",
       " '__doc__',\n",
       " '__eq__',\n",
       " '__format__',\n",
       " '__ge__',\n",
       " '__getattribute__',\n",
       " '__getitem__',\n",
       " '__getstate__',\n",
       " '__gt__',\n",
       " '__hash__',\n",
       " '__init__',\n",
       " '__le__',\n",
       " '__len__',\n",
       " '__lt__',\n",
       " '__ne__',\n",
       " '__new__',\n",
       " '__reduce__',\n",
       " '__reduce_ex__',\n",
       " '__repr__',\n",
       " '__setattr__',\n",
       " '__setitem__',\n",
       " '__setstate__',\n",
       " '__sizeof__',\n",
       " '__str__',\n",
       " '__subclasshook__',\n",
       " 'append',\n",
       " 'clear',\n",
       " 'extend',\n",
       " 'find',\n",
       " 'findall',\n",
       " 'findtext',\n",
       " 'get',\n",
       " 'getchildren',\n",
       " 'getiterator',\n",
       " 'insert',\n",
       " 'items',\n",
       " 'iter',\n",
       " 'iterfind',\n",
       " 'itertext',\n",
       " 'keys',\n",
       " 'makeelement',\n",
       " 'remove',\n",
       " 'set']"
      ]
     },
     "execution_count": 121,
     "metadata": {},
     "output_type": "execute_result"
    }
   ],
   "source": [
    "dir(root[0])"
   ]
  },
  {
   "cell_type": "code",
   "execution_count": 146,
   "metadata": {},
   "outputs": [
    {
     "ename": "TypeError",
     "evalue": "element indices must be integers",
     "output_type": "error",
     "traceback": [
      "\u001b[1;31m---------------------------------------------------------------------------\u001b[0m",
      "\u001b[1;31mTypeError\u001b[0m                                 Traceback (most recent call last)",
      "\u001b[1;32m<ipython-input-146-551b4c27f5a9>\u001b[0m in \u001b[0;36m<module>\u001b[1;34m()\u001b[0m\n\u001b[1;32m----> 1\u001b[1;33m \u001b[0mroot\u001b[0m\u001b[1;33m[\u001b[0m\u001b[1;34m'object'\u001b[0m\u001b[1;33m]\u001b[0m\u001b[1;33m.\u001b[0m\u001b[0mtext\u001b[0m\u001b[1;33m\u001b[0m\u001b[0m\n\u001b[0m",
      "\u001b[1;31mTypeError\u001b[0m: element indices must be integers"
     ]
    }
   ],
   "source": [
    "root['object'].text"
   ]
  },
  {
   "cell_type": "code",
   "execution_count": 169,
   "metadata": {},
   "outputs": [],
   "source": [
    "import numpy as np\n",
    "import random"
   ]
  },
  {
   "cell_type": "code",
   "execution_count": 175,
   "metadata": {},
   "outputs": [],
   "source": [
    "class Bbox(object):\n",
    "    \"\"\"\n",
    "    objective: bbox - stores a bounding box information\n",
    "    properties:\n",
    "        _sx,_sy - top left coordinate\n",
    "        _ex,_ey - bottom right coordinate\n",
    "        speed - not implemented yet\n",
    "    \"\"\"\n",
    "    def __init__(self,bbox=None,if_random=False,image_dim = None):\n",
    "        if bbox is not None:\n",
    "            self._sx, self._sy, self._ex, self._ey = bbox\n",
    "        else:\n",
    "            if if_random:\n",
    "                if image_dim is None:\n",
    "                    return None\n",
    "                h, w = image_dim\n",
    "                self._sx, self._sy = np.int(np.random.rand()*w*0.2), np.int(np.random.rand()*h*0.2)\n",
    "                self._ex, self._ey = np.int(self._sx+w*0.3), np.int(self._sy+h*0.2)\n",
    "\n",
    "    def get_bbox(self):\n",
    "        return  self._sx, self._sy, self._ex, self._ey\n",
    "    def get_speed(self):\n",
    "        pass\n",
    "\n",
    "\n",
    "class Bbox_list(list):\n",
    "    \"\"\"\n",
    "    objective: list of bbox\n",
    "    Properties:\n",
    "        bbox_list - list of bbox\n",
    "        add_bbox()\n",
    "        get_bbox()\n",
    "        create_bbox()\n",
    "    \"\"\"\n",
    "\n",
    "    def __init__(self,bbox=None):\n",
    "        super(Bbox_list,self).__init__()        \n",
    "        #super().__init__()\n",
    "        self.len = 0\n",
    "        if bbox is not None:\n",
    "            self.append(bbox)\n",
    "\n",
    "    def append(self,bbox):\n",
    "        super(Bbox_list,self).append(bbox)\n",
    "        self.len = self.len + 1       \n",
    "\n",
    "    def get_bbox_from_list(self):\n",
    "        for bbox in self:\n",
    "            yield(bbox.get_bbox())\n",
    "\n",
    "    def create_bbox(self, num , image_dim):\n",
    "        for num_ in range(num+1):\n",
    "            self.append(Bbox(bbox = None,if_random = 1,image_dim = image_dim))\n",
    "            self.len = self.len+1"
   ]
  },
  {
   "cell_type": "code",
   "execution_count": 176,
   "metadata": {},
   "outputs": [],
   "source": [
    "a = Bbox_list()\n",
    "a.create_bbox(5,(400,400))"
   ]
  },
  {
   "cell_type": "code",
   "execution_count": 160,
   "metadata": {},
   "outputs": [
    {
     "data": {
      "text/plain": [
       "0"
      ]
     },
     "execution_count": 160,
     "metadata": {},
     "output_type": "execute_result"
    }
   ],
   "source": [
    "class Foo(Bar):\n",
    "    def baz(self, arg):\n",
    "        return super(Foo, self).baz(arg)"
   ]
  },
  {
   "cell_type": "code",
   "execution_count": 178,
   "metadata": {},
   "outputs": [
    {
     "data": {
      "text/plain": [
       "[(14, 60, 134, 140),\n",
       " (4, 37, 124, 117),\n",
       " (17, 53, 137, 133),\n",
       " (70, 45, 190, 125),\n",
       " (7, 8, 127, 88),\n",
       " (45, 60, 165, 140)]"
      ]
     },
     "execution_count": 178,
     "metadata": {},
     "output_type": "execute_result"
    }
   ],
   "source": [
    "[i for i in a.get_bbox_from_list()]"
   ]
  },
  {
   "cell_type": "code",
   "execution_count": 179,
   "metadata": {},
   "outputs": [],
   "source": [
    "import cv2"
   ]
  },
  {
   "cell_type": "code",
   "execution_count": 189,
   "metadata": {},
   "outputs": [
    {
     "data": {
      "text/plain": [
       "str"
      ]
     },
     "execution_count": 189,
     "metadata": {},
     "output_type": "execute_result"
    }
   ],
   "source": [
    "type('123')"
   ]
  },
  {
   "cell_type": "code",
   "execution_count": 185,
   "metadata": {},
   "outputs": [
    {
     "data": {
      "text/plain": [
       "__main__.Bbox"
      ]
     },
     "execution_count": 185,
     "metadata": {},
     "output_type": "execute_result"
    }
   ],
   "source": [
    "type(a[0])"
   ]
  },
  {
   "cell_type": "code",
   "execution_count": 186,
   "metadata": {},
   "outputs": [
    {
     "data": {
      "text/plain": [
       "list"
      ]
     },
     "execution_count": 186,
     "metadata": {},
     "output_type": "execute_result"
    }
   ],
   "source": [
    "type([1.,2])"
   ]
  },
  {
   "cell_type": "code",
   "execution_count": 190,
   "metadata": {},
   "outputs": [],
   "source": [
    "opts = {'a':1, 'b':3}"
   ]
  },
  {
   "cell_type": "code",
   "execution_count": 195,
   "metadata": {},
   "outputs": [
    {
     "data": {
      "text/plain": [
       "dict_keys(['b', 'a'])"
      ]
     },
     "execution_count": 195,
     "metadata": {},
     "output_type": "execute_result"
    }
   ],
   "source": [
    "opts.keys()"
   ]
  }
 ],
 "metadata": {
  "kernelspec": {
   "display_name": "Python 3",
   "language": "python",
   "name": "python3"
  },
  "language_info": {
   "codemirror_mode": {
    "name": "ipython",
    "version": 3
   },
   "file_extension": ".py",
   "mimetype": "text/x-python",
   "name": "python",
   "nbconvert_exporter": "python",
   "pygments_lexer": "ipython3",
   "version": "3.5.5"
  },
  "widgets": {
   "state": {},
   "version": "1.1.2"
  }
 },
 "nbformat": 4,
 "nbformat_minor": 2
}
