{
 "cells": [
  {
   "cell_type": "markdown",
   "metadata": {},
   "source": [
    "\"\"\"\n",
    "video streaming application  \n",
    "[Tokyo SDK Development - Task #3640] Implement an in-house player for video bitstream  \n",
    "•Assignee: Takchoi.Yu im147  \n",
    "•Target version:   \n",
    "the in-house player should be able to receive bitstream from RTSP server.  \n",
    "In addition, the player can decoded the metadata and do the correct thing, including:   \n",
    "•Get the object list in the current frame, and draw the object bounding boxes to the video.  \n",
    "Functional Spec:  \n",
    "1.The player is executed from command line, a URL is passed to the player.  \n",
    "2. > multiplayer -u <URL>  \n",
    "4.A window pops up, displaying the video stream.   \n",
    "o When the window is not maximized, the psdndow frame or press Ctrl-C from command line, the program terminates.  \n",
    "    \n",
    "\"\"\""
   ]
  },
  {
   "cell_type": "code",
   "execution_count": 1,
   "metadata": {},
   "outputs": [],
   "source": [
    "import cv2\n",
    "import argparse\n",
    "import sys\n",
    "import os\n",
    "\n",
    "#parser = argparse.ArgumentParser()\n",
    "#parser.add_argument(\"-u\",\"--url\", help=\"input rstp streaming url\")\n",
    "#args = parser.parse_args()"
   ]
  },
  {
   "cell_type": "code",
   "execution_count": 2,
   "metadata": {},
   "outputs": [],
   "source": [
    "class multiplayer(object):\n",
    "    def __init__(self,rstp=None):\n",
    "        if rstp is None:\n",
    "            sys.exit(\"no\")\n",
    "        self.rstp = rstp\n",
    "        self.vcap = cv2.VideoCapture(rstp)\n",
    "        if not self.vcap.isOpened():\n",
    "            sys.exit(\"cannot find streaming input\")\n",
    "    def read(self):\n",
    "        self.ret, self.frame = self.vcap.read()\n",
    "    \n",
    "    def show(self):\n",
    "        cv2.imshow('video',self.frame)\n",
    "    def play(self):\n",
    "        while(1):\n",
    "            self.read()\n",
    "            self.show()\n",
    "            cv2.waitKey(1)\n",
    "        "
   ]
  },
  {
   "cell_type": "markdown",
   "metadata": {},
   "source": [
    "    \n",
    "class multiplayer(object):    \n",
    "    def __init__(self,rstp=None): \n",
    "        if rstp is None: \n",
    "            sys.exit(\"Exception: no input args\")\n",
    "        \n",
    "        self.rstp = rstp \n",
    "        self.vcap = cv2.VideoCapture(rstp)\n",
    "    \n",
    "    def read(self):\n",
    "        self.ret, self.frame = self.vcap.read()\n",
    "    \n",
    "    def show(self):\n",
    "        cv2.imshow(\"video\", self.frame)\n",
    "        \n",
    "    def play(self):\n",
    "    \n",
    "        while(1):\n",
    "            self._read()\n",
    "            self._show()\n",
    "            cv2.waitKey(1)"
   ]
  },
  {
   "cell_type": "code",
   "execution_count": 3,
   "metadata": {},
   "outputs": [],
   "source": [
    "import matplotlib.pyplot as plt\n",
    "import numpy as np\n",
    "%matplotlib inline"
   ]
  },
  {
   "cell_type": "code",
   "execution_count": 4,
   "metadata": {},
   "outputs": [
    {
     "name": "stdout",
     "output_type": "stream",
     "text": [
      " 磁碟區 C 中的磁碟是 OS\n",
      " 磁碟區序號:  DAC3-23D4\n",
      "\n",
      " C:\\Users\\im147\\Desktop\\workspace\\task\\3640 video bitstream 的目錄\n",
      "\n",
      "2018/05/04  下午 07:56    <DIR>          .\n",
      "2018/05/04  下午 07:56    <DIR>          ..\n",
      "2018/05/04  下午 12:10    <DIR>          .ipynb_checkpoints\n",
      "2018/05/04  下午 06:31               268 error.txt\n",
      "2018/05/04  下午 02:09                 9 multiplayer.cpp\n",
      "2018/05/04  下午 07:56            11,134 multiplayer.ipynb\n",
      "2018/05/04  下午 05:32             1,830 multiplayer.py\n",
      "2018/05/04  上午 11:35                44 readme.md\n",
      "2018/05/04  下午 07:48    <DIR>          test\n",
      "2018/05/04  下午 04:40    <DIR>          video\n",
      "2018/05/04  下午 02:09             1,558 videocapture_basic.cpp\n",
      "2018/05/04  下午 07:38    <DIR>          videoStream\n",
      "               6 個檔案          14,843 位元組\n",
      "               6 個目錄  385,725,411,328 位元組可用\n"
     ]
    }
   ],
   "source": [
    "ls"
   ]
  },
  {
   "cell_type": "code",
   "execution_count": 5,
   "metadata": {},
   "outputs": [
    {
     "data": {
      "text/plain": [
       "False"
      ]
     },
     "execution_count": 5,
     "metadata": {},
     "output_type": "execute_result"
    }
   ],
   "source": [
    "url = \"rtsp://:8554//192.168.10.147\"\n",
    "url2 = \"video\\\\022.000.000.surveilance_cam_1.mp4\"\n",
    "url3 = \"https://www.insecam.org/en/view/704914/#camstream\"\n",
    "#player  = multiplayer(url)\n",
    "url = url\n",
    "os.path.isfile(url)"
   ]
  },
  {
   "cell_type": "code",
   "execution_count": 6,
   "metadata": {},
   "outputs": [
    {
     "data": {
      "text/plain": [
       "'3.0.0102'"
      ]
     },
     "execution_count": 6,
     "metadata": {},
     "output_type": "execute_result"
    }
   ],
   "source": [
    "import vlc\n",
    "vlc.__version__"
   ]
  },
  {
   "cell_type": "code",
   "execution_count": 7,
   "metadata": {},
   "outputs": [],
   "source": [
    "import warnings\n",
    "warnings.filterwarnings(\"ignore\")"
   ]
  },
  {
   "cell_type": "code",
   "execution_count": 8,
   "metadata": {},
   "outputs": [],
   "source": [
    "player=vlc.MediaPlayer(url)"
   ]
  },
  {
   "cell_type": "code",
   "execution_count": null,
   "metadata": {},
   "outputs": [],
   "source": [
    "player = vlc.Instance"
   ]
  },
  {
   "cell_type": "code",
   "execution_count": 44,
   "metadata": {},
   "outputs": [],
   "source": [
    "instance=vlc.Instance()\n",
    "player= instance.media_player_new()\n",
    "media = instance.media_new(url) "
   ]
  },
  {
   "cell_type": "code",
   "execution_count": 45,
   "metadata": {},
   "outputs": [],
   "source": [
    "player.set_media(media)"
   ]
  },
  {
   "cell_type": "code",
   "execution_count": 54,
   "metadata": {},
   "outputs": [
    {
     "data": {
      "text/plain": [
       "0"
      ]
     },
     "execution_count": 54,
     "metadata": {},
     "output_type": "execute_result"
    }
   ],
   "source": [
    "player.play()"
   ]
  },
  {
   "cell_type": "code",
   "execution_count": 55,
   "metadata": {},
   "outputs": [],
   "source": [
    "a = player.get_instance()"
   ]
  },
  {
   "cell_type": "code",
   "execution_count": 56,
   "metadata": {},
   "outputs": [
    {
     "data": {
      "text/plain": [
       "<vlc.Instance at 0x46fad30>"
      ]
     },
     "execution_count": 56,
     "metadata": {},
     "output_type": "execute_result"
    }
   ],
   "source": [
    "a."
   ]
  },
  {
   "cell_type": "code",
   "execution_count": 57,
   "metadata": {},
   "outputs": [],
   "source": [
    "player.stop()"
   ]
  },
  {
   "cell_type": "code",
   "execution_count": 35,
   "metadata": {},
   "outputs": [
    {
     "name": "stdout",
     "output_type": "stream",
     "text": [
      "rtsp://:8554//192.168.10.147  not found\n"
     ]
    }
   ],
   "source": [
    "a = cv2.VideoCapture(url,cv2.CAP_FFMPEG)\n",
    "while a.isOpened():\n",
    "    _,f = a.read()\n",
    "    f = cv2.resize(f, (400, 400)) \n",
    "    cv2.imshow('f',f)\n",
    "    c = cv2.waitKey(30)\n",
    "    if c == ord('q'):\n",
    "        break\n",
    "        print(c)\n",
    "        a.release()\n",
    "        cv2.destroyAllWindows()\n",
    "else:\n",
    "    print(url, ' not found')\n",
    "    \n",
    "a.release()\n",
    "cv2.destroyAllWindows()    "
   ]
  },
  {
   "cell_type": "code",
   "execution_count": 41,
   "metadata": {},
   "outputs": [],
   "source": [
    "cv2.VideoCapture?"
   ]
  },
  {
   "cell_type": "code",
   "execution_count": 5,
   "metadata": {},
   "outputs": [
    {
     "name": "stdout",
     "output_type": "stream",
     "text": [
      "1\n",
      "2\n",
      "3\n",
      "4\n",
      "5\n",
      "6\n",
      "7\n",
      "8\n",
      "9\n",
      "10\n"
     ]
    }
   ],
   "source": [
    "for i in range(10):\n",
    "    a = cv2.VideoCapture(i)\n",
    "    if not a.isOpened():\n",
    "        i= i +1\n",
    "    print(i)\n",
    "    "
   ]
  },
  {
   "cell_type": "code",
   "execution_count": 10,
   "metadata": {},
   "outputs": [
    {
     "name": "stdout",
     "output_type": "stream",
     "text": [
      "False\n"
     ]
    }
   ],
   "source": [
    "import numpy as np\n",
    "import cv2\n",
    "\n",
    "cap = cv2.VideoCapture(1)\n",
    "print(cap.isOpened())\n",
    "while(cap.isOpened()):\n",
    "    # Capture frame-by-frame\n",
    "    ret, frame = cap.read()\n",
    "\n",
    "    # Our operations on the frame come here\n",
    "    gray = cv2.cvtColor(frame, cv2.COLOR_BGR2GRAY)\n",
    "\n",
    "    # Display the resulting frame\n",
    "    cv2.imshow('frame',gray)\n",
    "    if cv2.waitKey(1) & 0xFF == ord('q'):\n",
    "        break\n",
    "\n",
    "# When everything done, release the capture\n",
    "cap.release()\n",
    "cv2.destroyAllWindows()"
   ]
  },
  {
   "cell_type": "code",
   "execution_count": 7,
   "metadata": {},
   "outputs": [
    {
     "data": {
      "text/plain": [
       "False"
      ]
     },
     "execution_count": 7,
     "metadata": {},
     "output_type": "execute_result"
    }
   ],
   "source": [
    "cv2.VideoCapture(1).isOpened()"
   ]
  },
  {
   "cell_type": "code",
   "execution_count": 63,
   "metadata": {},
   "outputs": [
    {
     "data": {
      "text/plain": [
       "False"
      ]
     },
     "execution_count": 63,
     "metadata": {},
     "output_type": "execute_result"
    }
   ],
   "source": [
    "player.vcap.isOpened()\n",
    "\n"
   ]
  },
  {
   "cell_type": "code",
   "execution_count": 20,
   "metadata": {},
   "outputs": [
    {
     "data": {
      "text/plain": [
       "False"
      ]
     },
     "execution_count": 20,
     "metadata": {},
     "output_type": "execute_result"
    }
   ],
   "source": [
    "a = cv2.VideoCapture(0)\n",
    "a.isOpened()"
   ]
  },
  {
   "cell_type": "code",
   "execution_count": null,
   "metadata": {},
   "outputs": [],
   "source": [
    "if __name__ == \"__main__\":\n",
    "    args.url = 'rtsp://:8554//192.168.10.147/'\n",
    "    player  = multiplayer(args.url)\n",
    "    player.play()\n",
    "    \n",
    "    \n",
    "        \n",
    "    "
   ]
  }
 ],
 "metadata": {
  "kernelspec": {
   "display_name": "Python 3",
   "language": "python",
   "name": "python3"
  },
  "language_info": {
   "codemirror_mode": {
    "name": "ipython",
    "version": 3
   },
   "file_extension": ".py",
   "mimetype": "text/x-python",
   "name": "python",
   "nbconvert_exporter": "python",
   "pygments_lexer": "ipython3",
   "version": "3.5.5"
  },
  "widgets": {
   "state": {},
   "version": "1.1.2"
  }
 },
 "nbformat": 4,
 "nbformat_minor": 2
}
